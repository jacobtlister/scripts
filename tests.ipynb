{
 "cells": [
  {
   "cell_type": "code",
   "execution_count": 36,
   "metadata": {
    "vscode": {
     "languageId": "shellscript"
    }
   },
   "outputs": [],
   "source": [
    "#!/bin/bash\n",
    ": <<'info'\n",
    "    description\n",
    "        this script has no real purpose other than for me to experiment. this isn't really meant\n",
    "        to be used, more so to run and see the outputs for me to learn about certain shell features.\n",
    "        this is also for me to experiment with fixes that shellcheck recommends.\n",
    "\n",
    "    required packages\n",
    "        various (in comments above each experiment if needed)\n",
    "        bash_kernel (pip)\n",
    "\n",
    "    additional notes\n",
    "        if i am testing a shellcheck recommmendation / fix, I will include the specific SC number in the comment above the code\n",
    "\n",
    "        to get compatibility with bash for jupyter notebooks, see the following github repository:\n",
    "\n",
    "        https://github.com/takluyver/bash_kernel\n",
    "\n",
    "        im just opening the jupyter notebook in vs code and executing individual cells, thought this would be more\n",
    "        useful than a shell script containing a bunch of random code\n",
    "info"
   ]
  },
  {
   "cell_type": "code",
   "execution_count": 5,
   "metadata": {
    "vscode": {
     "languageId": "shellscript"
    }
   },
   "outputs": [
    {
     "name": "stdout",
     "output_type": "stream",
     "text": [
      "Hello World!\n"
     ]
    }
   ],
   "source": [
    "#!/bin/bash\n",
    "echo \"Hello World!\""
   ]
  },
  {
   "cell_type": "code",
   "execution_count": 6,
   "metadata": {
    "vscode": {
     "languageId": "shellscript"
    }
   },
   "outputs": [
    {
     "name": "stdout",
     "output_type": "stream",
     "text": [
      "15\n"
     ]
    }
   ],
   "source": [
    "#!/bin/bash\n",
    "\n",
    "# messing with https://www.shellcheck.net/wiki/SC2219\n",
    "b=15\n",
    "echo \"$b\"\n",
    "\n",
    "(( b=b+5 )) || true\n",
    "echo \"$b\"\n",
    "echo"
   ]
  },
  {
   "cell_type": "code",
   "execution_count": 7,
   "metadata": {
    "vscode": {
     "languageId": "shellscript"
    }
   },
   "outputs": [
    {
     "name": "stdout",
     "output_type": "stream",
     "text": [
      "converters\n",
      "makealiases.sh\n",
      "README.md\n",
      "resources.md\n",
      "staples\n",
      "template.sh\n",
      "test.sh\n",
      "tests.ipynb\n",
      "utils\n"
     ]
    }
   ],
   "source": [
    "#!/bin/bash\n",
    "\n",
    "# messing with https://www.shellcheck.net/wiki/SC2045\n",
    "\n",
    "# prints all files (with or without extensions) and directories in current directory\n",
    "for file in *; do\n",
    "    [[ -e \"$file\" ]] || break  # handle the case of no files\n",
    "\n",
    "    echo \"$file\"\n",
    "done"
   ]
  },
  {
   "cell_type": "code",
   "execution_count": 10,
   "metadata": {
    "vscode": {
     "languageId": "shellscript"
    }
   },
   "outputs": [
    {
     "name": "stdout",
     "output_type": "stream",
     "text": [
      "#!/bin/bash\n",
      "#!/bin/bash\n",
      "# File: FILENAME.sh\n",
      "\n",
      "#!/bin/bash\n",
      "# File: FILENAME.sh\n",
      "\n",
      "# sources all scripts in the utils directory of scripts\n",
      "# commenting this so ShellCheck doesn't freak out\n",
      "# shellcheck source=/dev/null\n",
      "for f in \"$HOME/scripts/utils\"/*.sh; do source \"${f}\"; done\n"
     ]
    }
   ],
   "source": [
    "#!/bin/bash\n",
    "\n",
    "# printing certain lines from a file using sed\n",
    "\n",
    "# how to print out a single line from a file\n",
    "sed -n \"1,1p\" template.sh\n",
    "\n",
    "# how to print out one range of lines from a file\n",
    "sed -n \"1,3p\" template.sh\n",
    "\n",
    "# how to print out multiple ranges of lines from a file\n",
    "sed -n \"1,3p; 15,18p\" template.sh"
   ]
  },
  {
   "cell_type": "code",
   "execution_count": 12,
   "metadata": {
    "vscode": {
     "languageId": "shellscript"
    }
   },
   "outputs": [
    {
     "name": "stdout",
     "output_type": "stream",
     "text": [
      "a\n",
      "a\n"
     ]
    }
   ],
   "source": [
    "#!/bin/bash\n",
    "\n",
    "# newline\n",
    "nl=$'\\n'\n",
    "\n",
    "echo \"a${nl}a\""
   ]
  },
  {
   "cell_type": "code",
   "execution_count": 13,
   "metadata": {
    "vscode": {
     "languageId": "shellscript"
    }
   },
   "outputs": [],
   "source": [
    "#!/bin/bash\n",
    "\n",
    "# to get final line in a file or command output, pipe it into tail -1, ie command | tail -1\n",
    "# simalarly, piping something into head -1 shows the first line\n",
    "\n",
    "# check whether a certain string appears in a file or string, returns true if there is a match\n",
    "# [[ -n $(grep -n \"forawdawdwadawd\" makealiases.sh) ]]"
   ]
  },
  {
   "cell_type": "code",
   "execution_count": 31,
   "metadata": {
    "vscode": {
     "languageId": "shellscript"
    }
   },
   "outputs": [
    {
     "name": "stdout",
     "output_type": "stream",
     "text": [
      "9\n"
     ]
    }
   ],
   "source": [
    "#!/bin/bash\n",
    "\n",
    "# get number of spaces in a string\n",
    "# also a little experiment i did with piping\n",
    "# referenced https://unix.stackexchange.com/a/246904 for the command in numberOfSpaces\n",
    "numberOfSpaces() {\n",
    "    # i know printf directly with variables is poor form, but I want to retain newlines\n",
    "    printf \"${@}\" | head -n 1 | tr -cd \" \" | wc -m\n",
    "}\n",
    "\n",
    "# has 9 spaces in it\n",
    "string=\"hj sjfd hjdfsj hk df hjk g hk jkh a\"\n",
    "\n",
    "num=$(numberOfSpaces \"${string}\")\n",
    "\n",
    "echo \"${num}\""
   ]
  },
  {
   "cell_type": "code",
   "execution_count": 32,
   "metadata": {
    "vscode": {
     "languageId": "shellscript"
    }
   },
   "outputs": [
    {
     "name": "stdout",
     "output_type": "stream",
     "text": [
      "\n",
      "1\n",
      "12\n",
      "123\n",
      "1234\n",
      "12345\n"
     ]
    }
   ],
   "source": [
    "#!/bin/bash\n",
    "\n",
    "# messing with for loops\n",
    "a=\"\"\n",
    "b=5\n",
    "\n",
    "echo \"${a}\"\n",
    "\n",
    "for i in $(seq 1 1 ${b}); do\n",
    "    a+=\"${i}\"\n",
    "    echo \"${a}\"\n",
    "done"
   ]
  },
  {
   "cell_type": "code",
   "execution_count": 35,
   "metadata": {
    "vscode": {
     "languageId": "shellscript"
    }
   },
   "outputs": [],
   "source": [
    "#!/bin/bash\n",
    "\n",
    "# /dev/null outputting (into the void he goes)\n",
    "echo hi >  /dev/null"
   ]
  },
  {
   "cell_type": "code",
   "execution_count": null,
   "metadata": {
    "vscode": {
     "languageId": "shellscript"
    }
   },
   "outputs": [],
   "source": [
    "#!/bin/bash\n",
    "\n"
   ]
  },
  {
   "cell_type": "code",
   "execution_count": null,
   "metadata": {
    "vscode": {
     "languageId": "shellscript"
    }
   },
   "outputs": [],
   "source": [
    "#!/bin/bash\n",
    "\n"
   ]
  },
  {
   "cell_type": "code",
   "execution_count": null,
   "metadata": {
    "vscode": {
     "languageId": "shellscript"
    }
   },
   "outputs": [],
   "source": [
    "#!/bin/bash\n",
    "\n"
   ]
  },
  {
   "cell_type": "code",
   "execution_count": null,
   "metadata": {
    "vscode": {
     "languageId": "shellscript"
    }
   },
   "outputs": [],
   "source": [
    "#!/bin/bash\n",
    "\n"
   ]
  },
  {
   "cell_type": "code",
   "execution_count": null,
   "metadata": {
    "vscode": {
     "languageId": "shellscript"
    }
   },
   "outputs": [],
   "source": [
    "#!/bin/bash\n",
    "\n"
   ]
  },
  {
   "cell_type": "code",
   "execution_count": null,
   "metadata": {
    "vscode": {
     "languageId": "shellscript"
    }
   },
   "outputs": [],
   "source": [
    "#!/bin/bash\n",
    "\n"
   ]
  },
  {
   "cell_type": "code",
   "execution_count": null,
   "metadata": {
    "vscode": {
     "languageId": "shellscript"
    }
   },
   "outputs": [],
   "source": [
    "#!/bin/bash\n",
    "\n"
   ]
  },
  {
   "cell_type": "code",
   "execution_count": null,
   "metadata": {
    "vscode": {
     "languageId": "shellscript"
    }
   },
   "outputs": [],
   "source": [
    "#!/bin/bash\n",
    "\n"
   ]
  },
  {
   "cell_type": "code",
   "execution_count": null,
   "metadata": {
    "vscode": {
     "languageId": "shellscript"
    }
   },
   "outputs": [],
   "source": [
    "#!/bin/bash\n",
    "\n"
   ]
  }
 ],
 "metadata": {
  "kernelspec": {
   "display_name": "Bash",
   "language": "bash",
   "name": "bash"
  },
  "language_info": {
   "codemirror_mode": "shell",
   "file_extension": ".sh",
   "mimetype": "text/x-sh",
   "name": "bash"
  }
 },
 "nbformat": 4,
 "nbformat_minor": 2
}
